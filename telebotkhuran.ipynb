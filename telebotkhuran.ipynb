{
  "nbformat": 4,
  "nbformat_minor": 0,
  "metadata": {
    "colab": {
      "provenance": []
    },
    "kernelspec": {
      "name": "python3",
      "display_name": "Python 3"
    },
    "language_info": {
      "name": "python"
    }
  },
  "cells": [
    {
      "cell_type": "code",
      "execution_count": null,
      "metadata": {
        "colab": {
          "base_uri": "https://localhost:8080/"
        },
        "id": "CSpfFbxQ4leJ",
        "outputId": "81421064-c1bc-4a99-aebd-894b5f086d97"
      },
      "outputs": [
        {
          "output_type": "stream",
          "name": "stdout",
          "text": [
            "Collecting telebot\n",
            "  Downloading telebot-0.0.5-py3-none-any.whl.metadata (2.0 kB)\n",
            "Collecting pyTelegramBotAPI (from telebot)\n",
            "  Downloading pytelegrambotapi-4.22.1-py3-none-any.whl.metadata (48 kB)\n",
            "\u001b[2K     \u001b[90m━━━━━━━━━━━━━━━━━━━━━━━━━━━━━━━━━━━━━━━━\u001b[0m \u001b[32m48.2/48.2 kB\u001b[0m \u001b[31m1.4 MB/s\u001b[0m eta \u001b[36m0:00:00\u001b[0m\n",
            "\u001b[?25hRequirement already satisfied: requests in /usr/local/lib/python3.10/dist-packages (from telebot) (2.32.3)\n",
            "Requirement already satisfied: charset-normalizer<4,>=2 in /usr/local/lib/python3.10/dist-packages (from requests->telebot) (3.3.2)\n",
            "Requirement already satisfied: idna<4,>=2.5 in /usr/local/lib/python3.10/dist-packages (from requests->telebot) (3.7)\n",
            "Requirement already satisfied: urllib3<3,>=1.21.1 in /usr/local/lib/python3.10/dist-packages (from requests->telebot) (2.0.7)\n",
            "Requirement already satisfied: certifi>=2017.4.17 in /usr/local/lib/python3.10/dist-packages (from requests->telebot) (2024.7.4)\n",
            "Downloading telebot-0.0.5-py3-none-any.whl (4.8 kB)\n",
            "Downloading pytelegrambotapi-4.22.1-py3-none-any.whl (261 kB)\n",
            "\u001b[2K   \u001b[90m━━━━━━━━━━━━━━━━━━━━━━━━━━━━━━━━━━━━━━━━\u001b[0m \u001b[32m261.0/261.0 kB\u001b[0m \u001b[31m9.6 MB/s\u001b[0m eta \u001b[36m0:00:00\u001b[0m\n",
            "\u001b[?25hInstalling collected packages: pyTelegramBotAPI, telebot\n",
            "Successfully installed pyTelegramBotAPI-4.22.1 telebot-0.0.5\n"
          ]
        }
      ],
      "source": [
        "%pip install telebot"
      ]
    },
    {
      "cell_type": "code",
      "source": [
        "from re import template\n",
        "import requests\n",
        "import telebot\n",
        "\n",
        "TELEGRAM_BOT_TOKEN = \"7176837828:AAGwRdpmKmhVD6u2jZdMv5BEkKnhDZXPLqY\"\n",
        "weather_api_token = 'd895f285a02aab55ff9136e79f59dcb4'\n",
        "\n",
        "\n",
        "bot = telebot.TeleBot(TELEGRAM_BOT_TOKEN)\n",
        "\n",
        "def get_weather(city: str) -> dict:\n",
        "  url=f\"https://api.openweathermap.org/data/2.5/weather?q={city}&appid={weather_api_token}&units=metric\"\n",
        "  response = requests.get(url)\n",
        "  data = response.json()\n",
        "  return response.json()\n",
        "\n",
        "\n",
        "@bot.message_handler(commands=['start', 'hello'])\n",
        "def send_welcome(message):\n",
        "    bot.reply_to(message, \"hey how are you doing\")\n",
        "\n",
        "\n",
        "@bot.message_handler(commands=['hey'])\n",
        "def send_welcome(message):\n",
        "    bot.reply_to(message, \"how are you\")\n",
        "\n",
        "\n",
        "@bot.message_handler(commands=['good'])\n",
        "def send_welcome(message):\n",
        "    bot.reply_to(message, \"ok\")\n",
        "\n",
        "\n",
        "@bot.message_handler(commands=['weather'])\n",
        "def send_welcome(message):\n",
        "    bot.reply_to(message, \"say city name\")\n",
        "\n",
        "\n",
        "\n",
        "@bot.message_handler(commands=['poem'])\n",
        "def send_welcome(message):\n",
        "    bot.reply_to(message, '''Twinkle, twinkle, little star,\n",
        "How I wonder what you are!\n",
        "Up above the world so high,\n",
        "Like a diamond in the sky.\n",
        "\n",
        "When the blazing sun is gone,\n",
        "When he nothing shines upon,\n",
        "Then you show your little light,\n",
        "Twinkle, twinkle, all the night''')\n",
        "\n",
        "\n",
        "def get_daily_horoscope(sign: str, day: str) -> dict:\n",
        "    \"\"\"Get daily horoscope for a zodiac sign.\n",
        "    Keyword arguments:\n",
        "    sign:str - Zodiac sign\n",
        "    day:str - Date in format (YYYY-MM-DD) OR TODAY OR TOMORROW OR YESTERDAY\n",
        "    Return:dict - JSON data\n",
        "    \"\"\"\n",
        "    url = \"https://horoscope-app-api.vercel.app/api/v1/get-horoscope/daily\"\n",
        "    params = {\"sign\": sign, \"day\": day}\n",
        "    response = requests.get(url, params)\n",
        "\n",
        "    return response.json()\n",
        "\n",
        "\n",
        "def fetch_horoscope(message, sign):\n",
        "    day = message.text\n",
        "    horoscope = get_daily_horoscope(sign, day)\n",
        "    data = horoscope[\"data\"]\n",
        "    horoscope_message = f'*Horoscope:* {data[\"horoscope_data\"]}\\\\n*Sign:* {sign}\\\\n*Day:* {data[\"date\"]}'\n",
        "    bot.send_message(message.chat.id, \"Here's your horoscope!\")\n",
        "    bot.send_message(message.chat.id, horoscope_message, parse_mode=\"Markdown\")\n",
        "\n",
        "\n",
        "def day_handler(message):\n",
        "    sign = message.text\n",
        "    text = \"What day do you want to know?\\nChoose one: *TODAY*, *TOMORROW*, *YESTERDAY*, or a date in format YYYY-MM-DD.\"\n",
        "    sent_msg = bot.send_message(\n",
        "        message.chat.id, text, parse_mode=\"Markdown\")\n",
        "    bot.register_next_step_handler(\n",
        "        sent_msg, fetch_horoscope, sign.capitalize())\n",
        "\n",
        "@bot.message_handler(commands=['horoscope'])\n",
        "def sign_handler(message):\n",
        "    text = \"What's your zodiac sign?\\nChoose one: *Aries*, *Taurus*, *Gemini*, *Cancer,* *Leo*, *Virgo*, *Libra*, *Scorpio*, *Sagittarius*, *Capricorn*, *Aquarius*, and *Pisces*.\"\n",
        "    sent_msg = bot.send_message(message.chat.id, text, parse_mode=\"Markdown\")\n",
        "    bot.register_next_step_handler(sent_msg, day_handler)\n",
        "\n",
        "\n",
        "@bot.message_handler(func=lambda message: True)\n",
        "\n",
        "def send_weather(message):\n",
        "    city = message.text\n",
        "    weather_data = get_weather(city)\n",
        "    print(weather_data)\n",
        "\n",
        "    if weather_data.get(\"cod\")!=200:\n",
        "      bot.reply_to(message, \"sorry it is not found\")\n",
        "      return\n",
        "\n",
        "    city_name =weather_data[\"name\"]\n",
        "    description = weather_data[\"weather\"][0][\"description\"]\n",
        "    temperature = weather_data[\"main\"][\"temp\"]\n",
        "    humidity = weather_data[\"main\"][\"humidity\"]\n",
        "    feels_like = weather_data[\"main\"][\"feels_like\"]\n",
        "    wind_speed = weather_data[\"wind\"][\"speed\"]\n",
        "\n",
        "    text = f\"The weather of the city: {city_name} \\n Weather Looks like: {description} \\n Temperature: {temperature} ℃ 🌡 \\n Feels like: {feels_like} ℃ ☁ \\n Humidity: {humidity} ☔ \\n Wind speed: {wind_speed} km/h  \\n\"\n",
        "\n",
        "\n",
        "    bot.send_message(message.chat.id, text)\n",
        "\n",
        "\n",
        "\n",
        "\n",
        "bot.infinity_polling()\n",
        "\n",
        "\n"
      ],
      "metadata": {
        "colab": {
          "base_uri": "https://localhost:8080/"
        },
        "id": "aOVFuoMo4uDa",
        "outputId": "182dcea3-31d4-4f1e-9f52-42b69437a88d"
      },
      "execution_count": null,
      "outputs": [
        {
          "output_type": "stream",
          "name": "stderr",
          "text": [
            "2024-08-22 12:45:43,533 (__init__.py:1112 MainThread) ERROR - TeleBot: \"Infinity polling: polling exited\"\n",
            "ERROR:TeleBot:Infinity polling: polling exited\n",
            "2024-08-22 12:45:43,537 (__init__.py:1114 MainThread) ERROR - TeleBot: \"Break infinity polling\"\n",
            "ERROR:TeleBot:Break infinity polling\n"
          ]
        }
      ]
    },
    {
      "cell_type": "code",
      "source": [],
      "metadata": {
        "id": "x0T5MdTovAbO"
      },
      "execution_count": null,
      "outputs": []
    }
  ]
}